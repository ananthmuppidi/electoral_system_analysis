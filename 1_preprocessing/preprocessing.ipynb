{
 "cells": [
  {
   "cell_type": "markdown",
   "id": "07ce212d",
   "metadata": {},
   "source": [
    "# Preprocessing\n",
    "---\n",
    "### This file consists of instructions to preprocess and clean the data.\n",
    "- Candidate, Votes, Valid Votes Margin, Last_Party, Month, Election_Type were removed since they are either uniquely identified by other variables, or were available in normalized form in other variable, or were redundant.\n",
    "- Na values were dropped since the were few in numer\n",
    "- Gender values and other text based inputs were sanitized. \n",
    "- Deposit_Lostwas  converted to boolean\n",
    "- The final dataset was rewritten in a separate file to assets. "
   ]
  },
  {
   "cell_type": "code",
   "execution_count": 35,
   "id": "8989b92a",
   "metadata": {},
   "outputs": [],
   "source": [
    "import warnings\n",
    "warnings.filterwarnings(\"ignore\")"
   ]
  },
  {
   "cell_type": "code",
   "execution_count": 36,
   "id": "7a091d46",
   "metadata": {},
   "outputs": [],
   "source": [
    "import pandas as pd\n",
    "import numpy as np\n",
    "from category_encoders import BinaryEncoder\n",
    "from sklearn.preprocessing import MinMaxScaler"
   ]
  },
  {
   "cell_type": "code",
   "execution_count": 37,
   "id": "6bbc2d1e",
   "metadata": {
    "scrolled": true
   },
   "outputs": [],
   "source": [
    "data_path = \"../assets/data/elections_data_all.csv\"\n",
    "df = pd.read_csv(data_path)"
   ]
  },
  {
   "cell_type": "code",
   "execution_count": 38,
   "id": "7ecb4449",
   "metadata": {},
   "outputs": [],
   "source": [
    "selected_columns = ['State_Name', 'Assembly_No', 'Constituency_No', 'Year',\n",
    "                    'Poll_No', 'DelimID', 'Position', 'Sex', 'Party', \n",
    "                    'Candidate_Type', 'Electors', 'Constituency_Name',\n",
    "                    'Constituency_Type', 'Sub_Region', 'N_Cand', 'Turnout_Percentage',\n",
    "                    'Vote_Share_Percentage', 'Deposit_Lost', 'Margin_Percentage',\n",
    "                    'ENOP', 'pid', 'Party_Type_TCPD', 'Party_ID', 'last_poll', 'Contested',\n",
    "                    'Last_Party_ID', 'Last_Constituency_Name',\n",
    "                    'Same_Constituency', 'Same_Party', 'No_Terms', 'Turncoat', 'Incumbent',\n",
    "                    'Recontest', 'MyNeta_education', 'TCPD_Prof_Main',\n",
    "                    'TCPD_Prof_Main_Desc', 'TCPD_Prof_Second', 'TCPD_Prof_Second_Desc']\n",
    "\n",
    "df = df[selected_columns]\n"
   ]
  },
  {
   "cell_type": "code",
   "execution_count": 39,
   "id": "7978fb9f",
   "metadata": {},
   "outputs": [],
   "source": [
    "df['Party'] = df['Party'].str.upper() \n",
    "df['Candidate_Type'] = df['Candidate_Type'].str.upper()  \n",
    "sex_mapping = {\n",
    "    'M': 'MALE',\n",
    "    'm': 'MALE',\n",
    "    'Male': 'MALE',\n",
    "    'F': 'FEMALE',\n",
    "    'f': 'FEMALE',\n",
    "    'Female': 'FEMALE',\n",
    "    'O': 'OTHER',  # Assuming 'O' represents 'OTHER'\n",
    "    'Nota': 'OTHER',  # Assuming 'Nota' represents 'OTHER'\n",
    "    'NOTA': 'OTHER'  # Assuming 'NOTA' represents 'OTHER'\n",
    "}\n",
    "df['Sex'] = df['Sex'].replace(sex_mapping)\n",
    "# Replace 'df' with your DataFrame name and 'Candidate_Type' with the column name\n",
    "df['Candidate_Type'] = df['Candidate_Type'].replace('GEN', 'GENERAL')\n",
    "df['Deposit_Lost'] = df['Deposit_Lost'].map({'yes': True, 'no': False})\n",
    "df = df[df['Contested'] >= 0]"
   ]
  },
  {
   "cell_type": "code",
   "execution_count": 40,
   "id": "c4d55434",
   "metadata": {},
   "outputs": [],
   "source": [
    "threshold = len(df) * 0.1\n",
    "df = df.dropna(thresh=threshold, axis=1)\n",
    "mode_values = df.mode().iloc[0]\n",
    "df = df.fillna(mode_values)"
   ]
  },
  {
   "cell_type": "code",
   "execution_count": 41,
   "id": "09a91a43",
   "metadata": {},
   "outputs": [],
   "source": [
    "df.to_csv(\"../assets/data/cleaned_data.csv\")"
   ]
  },
  {
   "cell_type": "code",
   "execution_count": null,
   "id": "7698f180",
   "metadata": {},
   "outputs": [],
   "source": []
  }
 ],
 "metadata": {
  "kernelspec": {
   "display_name": "Python 3 (ipykernel)",
   "language": "python",
   "name": "python3"
  },
  "language_info": {
   "codemirror_mode": {
    "name": "ipython",
    "version": 3
   },
   "file_extension": ".py",
   "mimetype": "text/x-python",
   "name": "python",
   "nbconvert_exporter": "python",
   "pygments_lexer": "ipython3",
   "version": "3.11.3"
  }
 },
 "nbformat": 4,
 "nbformat_minor": 5
}
